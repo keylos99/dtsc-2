{
  "nbformat": 4,
  "nbformat_minor": 0,
  "metadata": {
    "colab": {
      "provenance": [],
      "authorship_tag": "ABX9TyPNN0Q/GGtctxBfUF87WVuL",
      "include_colab_link": true
    },
    "kernelspec": {
      "name": "python3",
      "display_name": "Python 3"
    },
    "language_info": {
      "name": "python"
    }
  },
  "cells": [
    {
      "cell_type": "markdown",
      "metadata": {
        "id": "view-in-github",
        "colab_type": "text"
      },
      "source": [
        "<a href=\"https://colab.research.google.com/github/keylos99/dtsc-2/blob/main/combined_datasets.ipynb\" target=\"_parent\"><img src=\"https://colab.research.google.com/assets/colab-badge.svg\" alt=\"Open In Colab\"/></a>"
      ]
    },
    {
      "cell_type": "code",
      "execution_count": 10,
      "metadata": {
        "colab": {
          "base_uri": "https://localhost:8080/",
          "height": 193
        },
        "id": "jRUj7X823ON8",
        "outputId": "6d7629fb-ecba-4c26-f025-d081120eab0c"
      },
      "outputs": [
        {
          "output_type": "stream",
          "name": "stdout",
          "text": [
            "File not found. Please check the file paths and make sure the files are uploaded to Colab.\n"
          ]
        },
        {
          "output_type": "error",
          "ename": "NameError",
          "evalue": "name 'combined_df' is not defined",
          "traceback": [
            "\u001b[0;31m---------------------------------------------------------------------------\u001b[0m",
            "\u001b[0;31mNameError\u001b[0m                                 Traceback (most recent call last)",
            "\u001b[0;32m<ipython-input-10-a1e42e2bff88>\u001b[0m in \u001b[0;36m<cell line: 40>\u001b[0;34m()\u001b[0m\n\u001b[1;32m     38\u001b[0m \u001b[0;34m\u001b[0m\u001b[0m\n\u001b[1;32m     39\u001b[0m \u001b[0;32mfrom\u001b[0m \u001b[0mIPython\u001b[0m\u001b[0;34m.\u001b[0m\u001b[0mdisplay\u001b[0m \u001b[0;32mimport\u001b[0m \u001b[0mdisplay\u001b[0m\u001b[0;34m\u001b[0m\u001b[0;34m\u001b[0m\u001b[0m\n\u001b[0;32m---> 40\u001b[0;31m \u001b[0mdisplay\u001b[0m\u001b[0;34m(\u001b[0m\u001b[0mcombined_df\u001b[0m\u001b[0;34m)\u001b[0m\u001b[0;34m\u001b[0m\u001b[0;34m\u001b[0m\u001b[0m\n\u001b[0m",
            "\u001b[0;31mNameError\u001b[0m: name 'combined_df' is not defined"
          ]
        }
      ],
      "source": [
        "import pandas as pd\n",
        "\n",
        "try:\n",
        "    # Read df1\n",
        "    df1 = pd.read_csv('/content/states (1).csv') # Changed path\n",
        "\n",
        "    # Read df2 and skip rows until the header\n",
        "    df2 = pd.read_csv('/content/Health-Insurance_Expanded-Dataset - hic04_acs.csv', skiprows=3)  # Changed path\n",
        "\n",
        "    # Strip whitespace from column names for both DataFrames\n",
        "    df1.columns = df1.columns.str.strip()\n",
        "    df2.columns = df2.columns.str.strip()\n",
        "\n",
        "    # Print columns for troubleshooting after cleaning\n",
        "    print(\"Columns in df1 after cleaning:\", df1.columns)\n",
        "    print(\"Columns in df2 after cleaning:\", df2.columns)\n",
        "\n",
        "    # Rename 'Nation/State' in df2 to 'State' if it exists, for consistency\n",
        "    if 'Nation/State' in df2.columns:\n",
        "        df2 = df2.rename(columns={'Nation/State': 'State'})\n",
        "\n",
        "    # Merge the DataFrames on the 'State' column\n",
        "    combined_df = pd.merge(df1, df2, on='State', how='outer')\n",
        "\n",
        "    # Write the combined DataFrame to a new CSV file\n",
        "    combined_df.to_csv(r'C:\\Users\\vkeyl\\Downloads\\combined_file.csv', index=False)\n",
        "\n",
        "    # Print the combined DataFrame\n",
        "    print(combined_df)\n",
        "except FileNotFoundError as e:\n",
        "    print(\"File not found. Please check the file paths and make sure the files are uploaded to Colab.\") # More specific message\n",
        "except pd.errors.EmptyDataError as e:\n",
        "    print(\"One of the files is empty. Please check the contents of the CSV files.\")\n",
        "except KeyError as e:\n",
        "    print(\"The specified columns for merging are missing in one or both of the DataFrames. Check column names.\")\n",
        "except Exception as e:\n",
        "    print(\"An error occurred:\", e)\n",
        "\n",
        "from IPython.display import display\n",
        "display(combined_df)"
      ]
    }
  ]
}